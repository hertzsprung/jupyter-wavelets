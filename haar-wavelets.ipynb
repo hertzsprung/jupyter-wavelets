{
 "cells": [
  {
   "cell_type": "code",
   "execution_count": 1,
   "metadata": {},
   "outputs": [],
   "source": [
    "import matplotlib.pyplot as plt\n",
    "import numpy as np\n",
    "from math import sqrt, pow"
   ]
  },
  {
   "cell_type": "markdown",
   "metadata": {
    "collapsed": true
   },
   "source": [
    "Consider a *father basis* $\\phi$ given by\n",
    "$$\n",
    "\\phi(x) = \\sqrt{\\frac{1}{2}}\n",
    "\\begin{cases}\n",
    "1 & \\text{if $-1 \\leq x < 1$} \\\\\n",
    "0 & \\text{otherwise.}\n",
    "\\end{cases}\n",
    "$$"
   ]
  },
  {
   "cell_type": "code",
   "execution_count": 2,
   "metadata": {},
   "outputs": [
    {
     "data": {
      "image/png": "[encoded data removed]",
      "text/plain": [
       "<matplotlib.figure.Figure at 0x7f7971ae3e10>"
      ]
     },
     "metadata": {},
     "output_type": "display_data"
    }
   ],
   "source": [
    "x = np.linspace(-1.5, 1.5, num=500)\n",
    "phi = np.vectorize(lambda x: 1.0/sqrt(2) if (x >= -1 and x < 1) else 0.0)\n",
    "\n",
    "plt.title(\"Father basis $\\phi$\")\n",
    "plt.xlabel(\"x\")\n",
    "plt.ylim(-0.1, 1.1)\n",
    "plt.plot(x, phi(x))\n",
    "plt.show()"
   ]
  },
  {
   "cell_type": "markdown",
   "metadata": {},
   "source": [
    "Note that $\\phi$ is normalised since\n",
    "$$\\lVert \\phi \\rVert^2 = \\int_{-1}^{+1} \\sqrt{\\frac{1}{2}} \\cdot \\sqrt{\\frac{1}{2}} \\,\\mathrm{d}x = 1 \\text{.}$$"
   ]
  },
  {
   "cell_type": "markdown",
   "metadata": {},
   "source": [
    "The father basis $\\phi$ can be expressed as a linear combination of two *scaling functions*.\n",
    "Following [Haleem et al. 2015](https://doi.org/10.2166/hydro.2015.039), we generate a scaling function $\\phi_j^{(n)}$ at refinement level $n=0, \\ldots, N$ and position $j=0, \\ldots, n-1$,\n",
    "$$\n",
    "\\phi_j^{(n)} = 2^{n/2} \\phi(2^n (x+1) - 2j - 1)\n",
    "$$\n",
    "\n",
    "Note that the sole scaling function at refinement level 0, $\\phi_0^{(0)}$, is equal to the father basis $\\phi$.\n",
    "At refinement level 1 there are two scaling functions,\n",
    "$$\n",
    "\\phi_0^{(1)} = \\sqrt{2} \\phi(2x + 1) =\n",
    "\\begin{cases}1 & \\text{if $-1 \\leq x < 0$} \\\\ 0 & \\text{otherwise,}\\end{cases} \\\\\n",
    "\\phi_1^{(1)} = \\sqrt{2} \\phi(2x - 1) =\n",
    "\\begin{cases}1 & \\text{if $0 \\leq x < 1$} \\\\ 0 & \\text{otherwise.}\\end{cases}\n",
    "$$"
   ]
  },
  {
   "cell_type": "code",
   "execution_count": 10,
   "metadata": {},
   "outputs": [
    {
     "data": {
      "image/png": "[encoded data removed]",
      "text/plain": [
       "<matplotlib.figure.Figure at 0x7f79710b4190>"
      ]
     },
     "metadata": {},
     "output_type": "display_data"
    }
   ],
   "source": [
    "def scaling_function(n, j):\n",
    "    return np.vectorize(lambda x: pow(2, n/2.0) * phi(pow(2, n) * (x+1) - 2*j - 1))\n",
    "\n",
    "phi_0_level0 = scaling_function(n=0, j=0)\n",
    "phi_0_level1 = scaling_function(n=1, j=0)\n",
    "phi_1_level1 = scaling_function(n=1, j=1)\n",
    "\n",
    "fig, axes = plt.subplots(2, sharex=True)\n",
    "\n",
    "axes[1].set_ylim(-0.1, 1.1)\n",
    "axes[1].set_title(\"Level 0\")\n",
    "axes[1].text(0, 0.5/sqrt(2), \"$\\phi_0^{(0)}$\", color=\"C0\", horizontalalignment=\"center\")\n",
    "axes[1].plot(x, phi_0_level0(x))\n",
    "\n",
    "axes[0].set_title(\"Level 1\")\n",
    "axes[0].set_ylim(-0.1, 1.1)\n",
    "axes[0].text(-0.5, 0.5, \"$\\phi_0^{(1)}$\", color=\"C0\", horizontalalignment=\"center\")\n",
    "axes[0].text(0.5, 0.5, \"$\\phi_1^{(1)}$\", color=\"C1\", horizontalalignment=\"center\")\n",
    "axes[0].plot(x, phi_0_level1(x))\n",
    "axes[0].plot(x, phi_1_level1(x))\n",
    "\n",
    "plt.xlabel(\"x\")\n",
    "plt.show()"
   ]
  },
  {
   "cell_type": "markdown",
   "metadata": {},
   "source": [
    "Hence, the father basis can be expressed as the linear combination\n",
    "$$\n",
    "\\phi = \\phi_0^{(0)} = h_0 \\phi_0^{(1)} + h_1 \\phi_1^{(1)} \\text{,}\n",
    "$$\n",
    "where the *low-pass filter bank coefficients* $h_0$ and $h_1$ are\n",
    "$$\n",
    "h_0 = \\langle \\phi_0^{(0)}, \\phi_0^{(1)} \\rangle\n",
    "= \\int_{-1}^0 \\frac{1}{\\sqrt{2}} \\cdot 1\\, \\mathrm{d}x\n",
    "= \\frac{1}{\\sqrt{2}} \\text{,} \\\\\n",
    "%\n",
    "h_1 = \\langle \\phi_0^{(0)}, \\phi_1^{(1)} \\rangle\n",
    "= \\int_0^1 \\frac{1}{\\sqrt{2}} \\cdot 1\\, \\mathrm{d}x\n",
    "= \\frac{1}{\\sqrt{2}} \\text{.}\n",
    "$$"
   ]
  },
  {
   "cell_type": "markdown",
   "metadata": {},
   "source": [
    "## Representing details with wavelets"
   ]
  },
  {
   "cell_type": "markdown",
   "metadata": {},
   "source": [
    "Next, we define a wavelet function $\\psi_j^{(n)}$,\n",
    "$$\n",
    "\\psi_j^{(n)} = 2^{n/2} \\psi(2^n (x+1) - 2j - 1)\n",
    "$$\n",
    "where $\\psi$ is given by\n",
    "$$\n",
    "\\psi(x) = \\frac{1}{\\sqrt{2}}\n",
    "\\begin{cases}\n",
    "-1 & \\text{if $-1 \\leq x < 0$} \\\\\n",
    "1 & \\text{if $0 \\leq x < 1$} \\\\\n",
    "0 & \\text{otherwise.}\n",
    "\\end{cases}\n",
    "$$\n"
   ]
  },
  {
   "cell_type": "code",
   "execution_count": 11,
   "metadata": {},
   "outputs": [
    {
     "data": {
      "image/png": "[encoded data removed]",
      "text/plain": [
       "<matplotlib.figure.Figure at 0x7f7971582710>"
      ]
     },
     "metadata": {},
     "output_type": "display_data"
    }
   ],
   "source": [
    "psi = np.vectorize(lambda x: -1.0/sqrt(2) if (x >= -1 and x < 0) else\n",
    "                              1.0/sqrt(2) if (x >= 0 and x < 1) else 0.0)\n",
    "\n",
    "def wavelet_function(n, j):\n",
    "    return np.vectorize(lambda x: pow(2, n/2.0) * psi(pow(2, n) * (x+1) - 2*j - 1))\n",
    "\n",
    "psi_0_level0 = wavelet_function(n=0, j=0)\n",
    "psi_0_level1 = wavelet_function(n=1, j=0)\n",
    "psi_1_level1 = wavelet_function(n=1, j=1)\n",
    "\n",
    "fig, axes = plt.subplots(2, sharex=True)\n",
    "\n",
    "axes[1].set_ylim(-1.1, 1.1)\n",
    "axes[1].set_title(\"Level 0\")\n",
    "axes[1].text(-0.5, 0, \"$\\psi_0^{(0)}$\", color=\"C0\", horizontalalignment=\"center\")\n",
    "axes[1].plot(x, psi_0_level0(x))\n",
    "\n",
    "axes[0].set_title(\"Level 1\")\n",
    "axes[0].text(-0.75, 0.5, \"$\\psi_0^{(1)}$\", color=\"C0\", horizontalalignment=\"center\")\n",
    "axes[0].text(0.75, 0.5, \"$\\psi_1^{(1)}$\", color=\"C1\", horizontalalignment=\"center\")\n",
    "axes[0].plot(x, psi_0_level1(x))\n",
    "axes[0].plot(x, psi_1_level1(x))\n",
    "\n",
    "plt.xlabel(\"x\")\n",
    "plt.show()"
   ]
  },
  {
   "cell_type": "markdown",
   "metadata": {},
   "source": [
    "The wavelet function $\\psi_0^{(0)}$ can be expressed as the linear combination\n",
    "$$\n",
    "\\psi_0^{(0)} = g_0 \\phi_0^{(1)} + g_1 \\phi_1^{(1)} \\text{,}\n",
    "$$\n",
    "where the *high-pass filter bank coefficients* $g_0$ and $g_1$ are\n",
    "$$\n",
    "g_0 = \\langle \\psi_0^{(0)}, \\phi_0^{(1)} \\rangle = -\\frac{1}{\\sqrt{2}} \\text{,} \\\\\n",
    "g_1 = \\langle \\psi_0^{(0)}, \\phi_1^{(1)} \\rangle = \\frac{1}{\\sqrt{2}} \\text{.}\n",
    "$$"
   ]
  },
  {
   "cell_type": "markdown",
   "metadata": {},
   "source": [
    "## Decoding\n",
    "\n",
    "Consider a function $f(x)$ that is a linear combination of scaling functions $\\phi_0^{(1)}$ and $\\phi_1^{(1)}$,\n",
    "$$\n",
    "f(x) = s_0^{(1)} \\phi_0^{(1)} + s_1^{(1)} \\phi_1^{(1)}\n",
    "$$\n",
    "where $s_0^{(1)}$ and $s_1^{(1)}$ are the *scale coefficients* at refinement level 1.\n",
    "The function $f(x)$ can be *decoded* to obtain the scale coefficient $s_0^{(0)}$ and *detail coefficient* $d_0^{(0)}$ at refinement level 0.\n",
    "\n",
    "We use the low-pass filter bank coefficients to obtain the scale coefficient,\n",
    "$$\n",
    "s_0^{(0)} = h_0 s_0^{(1)} + h_1 s_1^{(1)} \\text{,}\n",
    "$$\n",
    "and we use the high-pass filter bank coefficients to obtain the detail coefficient,\n",
    "$$\n",
    "d_0^{(0)} = g_0 s_0^{(1)} + g_1 s_1^{(1)} \\text{.}\n",
    "$$\n",
    "Now we can express $f(x)$ in its decoded form,\n",
    "$$\n",
    "f(x) = s_0^{(0)} \\phi_0^{(0)} + d_0^{(0)} \\psi_0^{(0)} \\text{.}\n",
    "$$\n",
    "\n",
    "We can think of $s_0^{(0)}$ as the average of $s_0^{(1)}$ and $s_1^{(1)}$, and $d_0^{(0)}$ as the deviation of $s_0^{(1)}$ and $s_1^{(1)}$ from the average.  For example, consider the function\n",
    "$$\n",
    "f(x) = 6 \\phi_0^{(1)} + 2 \\phi_1^{(1)} \\text{.}\n",
    "$$\n",
    "We can decode this function to obtain\n",
    "$$\n",
    "s_0^{(0)} = \\frac{6}{\\sqrt{2}} + \\frac{2}{\\sqrt{2}} = 4 \\sqrt{2} \\text{,} \\\\\n",
    "d_0^{(0)} = -\\frac{6}{\\sqrt{2}} + \\frac{2}{\\sqrt{2}} = -2 \\sqrt{2} \\text{.}\n",
    "$$"
   ]
  },
  {
   "cell_type": "markdown",
   "metadata": {},
   "source": [
    "## Encoding\n",
    "\n",
    "Given a function expressed in its decoded form, we can encode it to retrieve its original form.  Knowing the coefficients $s_0^{(0)}$ and $d_0^{(0)}$ at refinement level 0, we use the filter bank coefficients to retrieve the scaling coefficients at refinement level 1,\n",
    "$$\n",
    "s_0^{(1)} = h_0 s_0^{(0)} + g_0 d_0^{(0)} \\text{,} \\\\\n",
    "s_1^{(1)} = h_1 s_0^{(0)} + g_1 d_0^{(0)} \\text{.}\n",
    "$$\n",
    "Continuing with our example function,\n",
    "$$\n",
    "s_0^{(1)} = \\frac{1}{\\sqrt{2}} \\cdot 4 \\sqrt{2} - \\frac{1}{\\sqrt{2}} \\cdot -2 \\sqrt{2} = 6 \\text{,} \\\\\n",
    "s_1^{(1)} = \\frac{1}{\\sqrt{2}} \\cdot 4 \\sqrt{2} + \\frac{1}{\\sqrt{2}} \\cdot -2 \\sqrt{2} = 2 \\text{.}\n",
    "$$\n"
   ]
  }
 ],
 "metadata": {
  "kernelspec": {
   "display_name": "Python 3",
   "language": "python",
   "name": "python3"
  },
  "language_info": {
   "codemirror_mode": {
    "name": "ipython",
    "version": 3
   },
   "file_extension": ".py",
   "mimetype": "text/x-python",
   "name": "python",
   "nbconvert_exporter": "python",
   "pygments_lexer": "ipython3",
   "version": "3.7.5"
  }
 },
 "nbformat": 4,
 "nbformat_minor": 2
}
